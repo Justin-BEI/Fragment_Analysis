{
 "cells": [
  {
   "cell_type": "code",
   "execution_count": 95,
   "metadata": {},
   "outputs": [],
   "source": [
    "import numpy as np\n",
    "import pandas as pd\n",
    "import matplotlib.pyplot as plt\n",
    "from scipy.integrate import solve_ivp\n",
    "import pandas as pd"
   ]
  },
  {
   "cell_type": "markdown",
   "metadata": {
    "slideshow": {
     "slide_type": "slide"
    }
   },
   "source": [
    "### Physics Behind Fragments"
   ]
  },
  {
   "cell_type": "markdown",
   "metadata": {
    "slideshow": {
     "slide_type": "subslide"
    }
   },
   "source": [
    "This Notebook will be used to give a good estimation to fragment velocities for different sized fragments. This notebook will also be used to get a \"feel\" for velocitities of fragments. This analysis will be very low level and be realtively simple."
   ]
  },
  {
   "cell_type": "markdown",
   "metadata": {
    "slideshow": {
     "slide_type": "subslide"
    }
   },
   "source": [
    "According to Newton Laws of motion, An object will remain at rest unless acted on by a force. This will be the basis of this analysis."
   ]
  },
  {
   "cell_type": "markdown",
   "metadata": {
    "slideshow": {
     "slide_type": "subslide"
    }
   },
   "source": [
    "$F_{net}=MA$"
   ]
  },
  {
   "cell_type": "markdown",
   "metadata": {
    "slideshow": {
     "slide_type": "subslide"
    }
   },
   "source": [
    "We can create a free body diagram to understand all the forces the fragment experiences once an explosion happens."
   ]
  },
  {
   "cell_type": "markdown",
   "metadata": {
    "slideshow": {
     "slide_type": "subslide"
    }
   },
   "source": [
    "The main force would be the force propelling the fragment which comes from the chamber pressure. This force is usually made up of the blast obverpressure decay data which can give us a dynamic pressure which then propels the fragment. However for the purposes of this analysis, it is decided to just use the pressure experienced at the time of explosion."
   ]
  },
  {
   "cell_type": "markdown",
   "metadata": {
    "slideshow": {
     "slide_type": "subslide"
    }
   },
   "source": [
    "The two secondary forces are the same for any object moving through a fluid. the first being the drag force which is the resistance of an object flowing through the medium. THe second force is the gravitational force that all objects experience."
   ]
  },
  {
   "cell_type": "markdown",
   "metadata": {
    "slideshow": {
     "slide_type": "slide"
    }
   },
   "source": [
    "<img src=\"fragment free body.PNG\">"
   ]
  },
  {
   "cell_type": "markdown",
   "metadata": {
    "slideshow": {
     "slide_type": "subslide"
    }
   },
   "source": [
    "Now that we understand what forces are acting on the fragment. We can find the net force acting on the fragment.\n",
    "$F_{net} = P_{Chamber}A - \\frac{C_{D}A \\rho V^2}{2} - mg$"
   ]
  },
  {
   "cell_type": "markdown",
   "metadata": {
    "slideshow": {
     "slide_type": "subslide"
    }
   },
   "source": [
    "We can now plug the net force equation into the newtons equation"
   ]
  },
  {
   "cell_type": "markdown",
   "metadata": {
    "slideshow": {
     "slide_type": "subslide"
    }
   },
   "source": [
    "$ P_{Chamber}A - \\frac{C_{D}A \\rho V^2}{2} - mg = m \\frac{dV}{dt}$"
   ]
  },
  {
   "cell_type": "markdown",
   "metadata": {
    "slideshow": {
     "slide_type": "subslide"
    }
   },
   "source": [
    "Now we can solve for $\\frac{dV}{dt}$"
   ]
  },
  {
   "cell_type": "markdown",
   "metadata": {
    "slideshow": {
     "slide_type": "subslide"
    }
   },
   "source": [
    "$\\frac{dV}{dt} = \\frac{P_{Chamber}A}{m} - \\frac{C_{D}A\\rho V^{2}}{2m} - g$"
   ]
  },
  {
   "cell_type": "markdown",
   "metadata": {
    "slideshow": {
     "slide_type": "subslide"
    }
   },
   "source": [
    "This is the velocity equation which will be used later."
   ]
  },
  {
   "cell_type": "markdown",
   "metadata": {
    "slideshow": {
     "slide_type": "slide"
    }
   },
   "source": [
    "### ODE from above"
   ]
  },
  {
   "cell_type": "code",
   "execution_count": 96,
   "metadata": {
    "slideshow": {
     "slide_type": "slide"
    }
   },
   "outputs": [],
   "source": [
    "def Velocity(P,A,rho,cd,m,t,v): \n",
    "    return PA - ((cd*(V**2)*A*rho)/(2*m))-g"
   ]
  },
  {
   "cell_type": "markdown",
   "metadata": {
    "slideshow": {
     "slide_type": "slide"
    }
   },
   "source": [
    "### Pressure, Radius,Thickness, CD, and Density"
   ]
  },
  {
   "cell_type": "code",
   "execution_count": 128,
   "metadata": {
    "slideshow": {
     "slide_type": "slide"
    }
   },
   "outputs": [],
   "source": [
    "# Array for pressure (specfied from mike) by a psi\n",
    "Psi =np.array([200,450,1000,10000,100000,1000000,1500000])\n",
    "#print(len(Psi))\n",
    "\n",
    "#array for Radius (0.04903-0.00064516m) by number of pressures\n",
    "interval = (0.04903-0.00064516)/len(Psi)\n",
    "r = np.array(np.arange(0.00064516,0.04903,(interval)))\n",
    "             \n",
    "#Density will be held as constant for now (SS304)\n",
    "rho = 8000 #kg/m^3\n",
    "             \n",
    "#Acceleration due to gravity\n",
    "g = 9.81 #m/s^2\n",
    "\n",
    "#thickness is from sch 10 SS304\n",
    "th = 4.19/1000 #m (mm to m)\n",
    "\n",
    "#Cd is from https://sv.20file.org/up1/916_0.pdf conclsion section\n",
    "cd = 1.21 #dimsonless"
   ]
  },
  {
   "cell_type": "markdown",
   "metadata": {
    "slideshow": {
     "slide_type": "slide"
    }
   },
   "source": [
    "### Finding Area, Volume, and Mass"
   ]
  },
  {
   "cell_type": "code",
   "execution_count": 153,
   "metadata": {
    "slideshow": {
     "slide_type": "slide"
    }
   },
   "outputs": [
    {
     "name": "stdout",
     "output_type": "stream",
     "text": [
      "0.029832935560859187\n",
      "0.029832935560859187\n",
      "0.029832935560859187\n",
      "0.029832935560859187\n",
      "0.02983293556085919\n",
      "0.029832935560859187\n",
      "0.029832935560859187\n"
     ]
    }
   ],
   "source": [
    "def Area(r):\n",
    "    A = np.pi * (r**2)\n",
    "    return A\n",
    "\n",
    "def Area_ft(r):\n",
    "    A = np.pi * (r**2) * 3.2808399\n",
    "    return A\n",
    "\n",
    "def Volume(r,th):\n",
    "    Vol=np.pi*(r**2)*th\n",
    "    return Vol\n",
    "\n",
    "def Mass(Vol,rho):\n",
    "    M = Vol * rho\n",
    "    return M\n",
    "\n",
    "#Calculate the Area for all Radii\n",
    "i=0\n",
    "A = np.zeros(len(r))\n",
    "A_ft = np.zeros(len(r))\n",
    "for i in range(0,len(r)):\n",
    "    A[i]=Area(r[i])\n",
    "    i=i+1\n",
    "for i in range(0,len(r)):\n",
    "    A_ft[i] =Area_ft(r[i])\n",
    "    i=i+1\n",
    "\n",
    "\n",
    "#Calculate the Volume for all Radii\n",
    "i=0\n",
    "Vol = np.zeros(len(r))\n",
    "for i in range(0,len(r)):\n",
    "    Vol[i] = Volume(r[i],th)\n",
    "    i=i+1\n",
    "\n",
    "#Calculate the Mass of each fragment\n",
    "i=0\n",
    "M = np.zeros(len(Vol))\n",
    "for i in range(0,len(Vol)):\n",
    "    M[i] = Mass(Vol[i],rho)\n",
    "    i=i+1\n",
    "#print(A)\n",
    "#print(M)\n",
    "\n",
    "for i in range(len(A)):\n",
    "    check = A[i]/(M[i])\n",
    "    print(check)\n",
    "    i=i+1"
   ]
  },
  {
   "cell_type": "markdown",
   "metadata": {
    "slideshow": {
     "slide_type": "slide"
    }
   },
   "source": [
    "### Changing Pressure (psi to Pa)"
   ]
  },
  {
   "cell_type": "code",
   "execution_count": 130,
   "metadata": {
    "slideshow": {
     "slide_type": "slide"
    }
   },
   "outputs": [
    {
     "name": "stdout",
     "output_type": "stream",
     "text": [
      "[1.378952e+06 3.102642e+06 6.894760e+06 6.894760e+07 6.894760e+08\n",
      " 6.894760e+09 1.034214e+10]\n"
     ]
    }
   ],
   "source": [
    "def Psi_to_Pa(Psi):\n",
    "    P = Psi * 6894.76\n",
    "    return P\n",
    "\n",
    "i=0\n",
    "P = np.zeros(len(Psi))\n",
    "for i in range(0,len(Psi)):\n",
    "    P[i] = Psi_to_Pa(Psi[i])\n",
    "    i=i+1\n",
    "print(P)"
   ]
  },
  {
   "cell_type": "markdown",
   "metadata": {
    "slideshow": {
     "slide_type": "slide"
    }
   },
   "source": [
    "### Finding $Acceleration$"
   ]
  },
  {
   "cell_type": "markdown",
   "metadata": {
    "slideshow": {
     "slide_type": "subslide"
    }
   },
   "source": [
    "$F_{net}$ for the first case will just be the chamber pressure. Therefore, $F_{net} = P_{Chamber}A$. Then we take the net force and divide it by Mass to get acceleration $ \\frac{F_{net}}{M} = a$"
   ]
  },
  {
   "cell_type": "code",
   "execution_count": 143,
   "metadata": {
    "slideshow": {
     "slide_type": "slide"
    }
   },
   "outputs": [
    {
     "name": "stdout",
     "output_type": "stream",
     "text": [
      "[41138.18615752 41138.18615752 41138.18615752 41138.18615752\n",
      " 41138.18615752 41138.18615752 41138.18615752]\n"
     ]
    }
   ],
   "source": [
    "def Acceleration(P,A,M):\n",
    "    Accel=np.zeros(len(A))\n",
    "    for i in range(0,len(A)):\n",
    "        Acc = (P * A[i])/M[i]\n",
    "        Accel[i] = Acc\n",
    "        i=i+1\n",
    "    return Accel\n",
    "accel_200 = Acceleration(P[0],A,M)\n",
    "print(accel_200)\n",
    "accel_450 = Acceleration(P[1],A,M)\n",
    "accel_1000 = Acceleration(P[2],A,M)\n",
    "accel_10000 = Acceleration(P[3],A,M)\n",
    "accel_100000 = Acceleration(P[4],A,M)\n",
    "accel_1000000 = Acceleration(P[5],A,M)\n",
    "accel_1500000 = Acceleration(P[6],A,M)"
   ]
  },
  {
   "cell_type": "markdown",
   "metadata": {
    "slideshow": {
     "slide_type": "slide"
    }
   },
   "source": [
    "### Now lets solve for Velocity"
   ]
  },
  {
   "cell_type": "markdown",
   "metadata": {
    "slideshow": {
     "slide_type": "subslide"
    }
   },
   "source": [
    "THis is a very simple integral to solve for. After the integral is complete, you should find that\n",
    "\n",
    "$v = \\frac{F}{M} * t + C$\n",
    "\n",
    "Now you to get rid of the C all we have to do is use the initial condition that at time 0 before the tank breaks, the velocity is obvisouly 0. Therefor....\n",
    "\n",
    "$v = \\frac{F}{M} * t $"
   ]
  },
  {
   "cell_type": "code",
   "execution_count": 174,
   "metadata": {
    "slideshow": {
     "slide_type": "slide"
    }
   },
   "outputs": [],
   "source": [
    "t = 0.001\n",
    "def Velocity_m(Accel,t):\n",
    "    Velocity_m = np.zeros(len(Accel))\n",
    "    for i in range(0,len(Accel)):\n",
    "        Velocity_m[i] = (Accel[i]*t)\n",
    "        i=i+1\n",
    "    return Velocity_m\n",
    "\n",
    "Velm_200 = Velocity_m(accel_200,t)\n",
    "Velm_450 = Velocity_m(accel_450,t)\n",
    "Velm_1000 = Velocity_m(accel_1000,t)\n",
    "Velm_10000 = Velocity_m(accel_10000,t)\n",
    "Velm_100000 = Velocity_m(accel_100000,t)\n",
    "Velm_1000000 = Velocity_m(accel_1000000,t)\n",
    "Velm_1500000 = Velocity_m(accel_1500000,t)"
   ]
  },
  {
   "cell_type": "code",
   "execution_count": 175,
   "metadata": {
    "slideshow": {
     "slide_type": "subslide"
    }
   },
   "outputs": [],
   "source": [
    "def Velocity_ft(Accel,t):\n",
    "    Velocity_ft = np.zeros(len(Accel))\n",
    "    for i in range(0,len(Accel)):\n",
    "        Velocity_ft[i] = (Accel[i]*t)*3.2808399\n",
    "        i=i+1\n",
    "    return  Velocity_ft\n",
    "\n",
    "Velft_200 = Velocity_ft(accel_200,t)\n",
    "Velft_450 = Velocity_ft(accel_450,t)\n",
    "Velft_1000 = Velocity_ft(accel_1000,t)\n",
    "Velft_10000 = Velocity_ft(accel_10000,t)\n",
    "Velft_100000 = Velocity_ft(accel_100000,t)\n",
    "Velft_1000000 = Velocity_ft(accel_1000000,t)\n",
    "Velft_1500000 = Velocity_ft(accel_1500000,t)"
   ]
  },
  {
   "cell_type": "markdown",
   "metadata": {
    "slideshow": {
     "slide_type": "slide"
    }
   },
   "source": [
    "### SOLVE ODE"
   ]
  },
  {
   "cell_type": "code",
   "execution_count": 176,
   "metadata": {},
   "outputs": [],
   "source": [
    "#PA = P[10000]*A[1]\n",
    "#K = (cd*A[1]*rho)/(2*M[1])"
   ]
  },
  {
   "cell_type": "code",
   "execution_count": 177,
   "metadata": {},
   "outputs": [],
   "source": [
    "#def Velocity(t,y): \n",
    "    #return PA - K*(y**2)-g"
   ]
  },
  {
   "cell_type": "code",
   "execution_count": 178,
   "metadata": {},
   "outputs": [],
   "source": [
    "#sol = solve_ivp(Velocity,[0,1], [0], t_eval=np.linspace(0,1,100))\n",
    "#print(sol.t)\n",
    "#print(sol.y)"
   ]
  },
  {
   "cell_type": "markdown",
   "metadata": {
    "slideshow": {
     "slide_type": "slide"
    }
   },
   "source": [
    "### Creating Excel Sheet"
   ]
  },
  {
   "cell_type": "code",
   "execution_count": 179,
   "metadata": {
    "slideshow": {
     "slide_type": "subslide"
    }
   },
   "outputs": [
    {
     "name": "stdout",
     "output_type": "stream",
     "text": [
      "            200 psi    450 psi   1,000 psi   10,000 Psi   100,000 psi  \\\n",
      "0.000001  41.138186  92.560919  205.690931  2056.909308  20569.093079   \n",
      "0.000179  41.138186  92.560919  205.690931  2056.909308  20569.093079   \n",
      "0.000658  41.138186  92.560919  205.690931  2056.909308  20569.093079   \n",
      "0.001436  41.138186  92.560919  205.690931  2056.909308  20569.093079   \n",
      "0.002515  41.138186  92.560919  205.690931  2056.909308  20569.093079   \n",
      "0.003894  41.138186  92.560919  205.690931  2056.909308  20569.093079   \n",
      "0.005573  41.138186  92.560919  205.690931  2056.909308  20569.093079   \n",
      "\n",
      "          1,000,000 psi  1,500,000 psi  \n",
      "0.000001  205690.930788  308536.396181  \n",
      "0.000179  205690.930788  308536.396181  \n",
      "0.000658  205690.930788  308536.396181  \n",
      "0.001436  205690.930788  308536.396181  \n",
      "0.002515  205690.930788  308536.396181  \n",
      "0.003894  205690.930788  308536.396181  \n",
      "0.005573  205690.930788  308536.396181  \n"
     ]
    }
   ],
   "source": [
    "df = pd.DataFrame({'200 psi' : Velm_200, '450 psi' : Velm_450 ,\n",
    "                  '1,000 psi' : Velm_1000 , '10,000 Psi' : Velm_10000 ,\n",
    "                   '100,000 psi' : Velm_100000 , '1,000,000 psi' : Velm_1000000 ,\n",
    "                  '1,500,000 psi' : Velm_1500000}, index = A)\n",
    "df2 = pd.DataFrame({'200 psi' : Velft_200, '450 psi' : Velft_450 ,\n",
    "                  '1,000 psi' : Velft_1000 , '10,000 Psi' : Velft_10000 ,\n",
    "                   '100,000 psi' : Velft_100000 , '1,000,000 psi' : Velft_1000000 ,\n",
    "                  '1,500,000 psi' : Velft_1500000})\n",
    "\n",
    "df.to_excel(\"Initial_Vel_Frag_Analysis.xlsx\")\n",
    "df2.to_excel(\"Initial_Velft_Frag_Analysis.xlsx\")\n",
    "print(df)"
   ]
  },
  {
   "cell_type": "markdown",
   "metadata": {
    "slideshow": {
     "slide_type": "slide"
    }
   },
   "source": [
    "### Create Graphs"
   ]
  },
  {
   "cell_type": "code",
   "execution_count": 180,
   "metadata": {
    "slideshow": {
     "slide_type": "subslide"
    }
   },
   "outputs": [
    {
     "data": {
      "image/png": "[encoded data removed]",
      "text/plain": [
       "<Figure size 432x288 with 1 Axes>"
      ]
     },
     "metadata": {
      "needs_background": "light"
     },
     "output_type": "display_data"
    }
   ],
   "source": [
    "plt.plot(A, df)\n",
    "plt.ylabel(\"Velocity (m/s)\")\n",
    "plt.xlabel(\"Area (m^2)\")\n",
    "plt.legend(Psi)\n",
    "plt.show()"
   ]
  },
  {
   "cell_type": "markdown",
   "metadata": {
    "slideshow": {
     "slide_type": "slide"
    }
   },
   "source": [
    "### Change Velocity from m/s to ft/s"
   ]
  },
  {
   "cell_type": "code",
   "execution_count": 185,
   "metadata": {
    "slideshow": {
     "slide_type": "subslide"
    }
   },
   "outputs": [
    {
     "data": {
      "image/png": "[encoded data removed]",
      "text/plain": [
       "<Figure size 432x288 with 1 Axes>"
      ]
     },
     "metadata": {
      "needs_background": "light"
     },
     "output_type": "display_data"
    },
    {
     "name": "stdout",
     "output_type": "stream",
     "text": [
      "[674.8390128 674.8390128 674.8390128 674.8390128 674.8390128 674.8390128\n",
      " 674.8390128]\n",
      "[6748.39012796 6748.39012796 6748.39012796 6748.39012796 6748.39012796\n",
      " 6748.39012796 6748.39012796]\n"
     ]
    }
   ],
   "source": [
    "plt.plot(A_ft, df2)\n",
    "plt.ylabel(\"Velocity (ft/s)\")\n",
    "plt.xlabel(\"Area (ft^2)\")\n",
    "plt.legend(Psi)\n",
    "plt.show()\n",
    "#print(Velft_200)\n",
    "#print(Velft_450)\n",
    "print(Velft_1000)\n",
    "print(Velft_10000)\n",
    "#print(Velft_100000)"
   ]
  },
  {
   "cell_type": "markdown",
   "metadata": {},
   "source": [
    "From the COMET Program, The velocities we measured were often times 50-100 ms after the explosion which makes them hard to compare with inital fragments. However, There were a couple of points that happened less than 15 ms after the explosion which can be more useful in comparing our calculations to. The values of the velocities we measured ranged from 2,000 ft/s to 9,000 ft/s. Using this information we can see that our velocities are falling in the low end of the pressures (1,000 - 10,000 psi)."
   ]
  },
  {
   "cell_type": "markdown",
   "metadata": {
    "slideshow": {
     "slide_type": "slide"
    }
   },
   "source": [
    "### Lets solve for time of acceleration of fragments"
   ]
  },
  {
   "cell_type": "code",
   "execution_count": 182,
   "metadata": {
    "slideshow": {
     "slide_type": "slide"
    }
   },
   "outputs": [
    {
     "name": "stdout",
     "output_type": "stream",
     "text": [
      "7\n",
      "[1.53608633e-01 6.82705034e-02 3.07217265e-02 3.07217265e-03\n",
      " 3.07217265e-04 3.07217265e-05 2.04811510e-05]\n",
      "[1.378952e+06 3.102642e+06 6.894760e+06 6.894760e+07 6.894760e+08\n",
      " 6.894760e+09 1.034214e+10]\n"
     ]
    }
   ],
   "source": [
    "########CONSTANTS##############\n",
    "A_1 = 76.83 #in^2 average from test 9 fragments\n",
    "thickness = 0.38 #in from average test 9 fragment\n",
    "dens = 8000 #kg/m^3\n",
    "V_1 = 9000 #fastest and earliest fragment from test 5 ft/s\n",
    "##################################\n",
    "\n",
    "##########FUNCTIONS################\n",
    "def ins_ms(A_1):\n",
    "    A = A_1*0.00064516\n",
    "    return A\n",
    "def ftps_mps(V_1):\n",
    "    V = V_1*0.3048\n",
    "    return V\n",
    "def in_m(thickness_1):\n",
    "    thickness = thickness_1*0.0254\n",
    "    return thickness\n",
    "\n",
    "####################################\n",
    "\n",
    "############SI UNITS BELOW###############\n",
    "A_1 = ins_ms(A_1) #m^2\n",
    "V_1 = ftps_mps(V_1) #m/s\n",
    "thickness = in_m(thickness) #m\n",
    "\n",
    "#############Calculations#################\n",
    "M_1 = (A_1*thickness)*rho\n",
    "t = np.zeros(len(P))\n",
    "i=0\n",
    "print(len(t))\n",
    "for i in range(len(P)):\n",
    "    t[i] = (V_1*M_1)/(P[i]*A_1)\n",
    "    i = i+1\n",
    "print(t)\n",
    "print(P)"
   ]
  },
  {
   "cell_type": "code",
   "execution_count": 183,
   "metadata": {
    "slideshow": {
     "slide_type": "slide"
    }
   },
   "outputs": [
    {
     "name": "stdout",
     "output_type": "stream",
     "text": [
      "Pressure (Psi)  Time of Contact (s)\n",
      "                0\n",
      "200      0.153609\n",
      "450      0.068271\n",
      "1000     0.030722\n",
      "10000    0.003072\n",
      "100000   0.000307\n",
      "1000000  0.000031\n",
      "1500000  0.000020\n"
     ]
    },
    {
     "data": {
      "image/png": "[encoded data removed]",
      "text/plain": [
       "<Figure size 432x288 with 1 Axes>"
      ]
     },
     "metadata": {
      "needs_background": "light"
     },
     "output_type": "display_data"
    }
   ],
   "source": [
    "print('Pressure (Psi) ', 'Time of Contact (s)')\n",
    "df3= pd.DataFrame(t, index = Psi)\n",
    "print(df3)\n",
    "df3.to_excel(\"time_of_Accel_Frag.xlsx\")\n",
    "plt.plot(P,df3)\n",
    "plt.ylabel(\"Time of contact (s)\")\n",
    "plt.xlabel(\"Pressure (Pa)\")\n",
    "plt.show()"
   ]
  },
  {
   "cell_type": "markdown",
   "metadata": {},
   "source": [
    "### Note"
   ]
  },
  {
   "cell_type": "markdown",
   "metadata": {},
   "source": [
    "From my calculations it would seem as though the inital chamber pressure that the fragments are subjected to seem to infulence the fragments velocities lineraly. You can see as the chamber pressure increases in the tanks the contact time or the time of accleretaion of the fragments significantly decreases.  However this was a simple ideal case of the fragments. It does not take into account drag forces and dynamic pressure forces. These will need to be added for a more accurate model of fragment intial velocities."
   ]
  },
  {
   "cell_type": "code",
   "execution_count": null,
   "metadata": {},
   "outputs": [],
   "source": []
  }
 ],
 "metadata": {
  "kernelspec": {
   "display_name": "Python 3",
   "language": "python",
   "name": "python3"
  },
  "language_info": {
   "codemirror_mode": {
    "name": "ipython",
    "version": 3
   },
   "file_extension": ".py",
   "mimetype": "text/x-python",
   "name": "python",
   "nbconvert_exporter": "python",
   "pygments_lexer": "ipython3",
   "version": "3.7.6"
  }
 },
 "nbformat": 4,
 "nbformat_minor": 4
}
