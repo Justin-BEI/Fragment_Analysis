{
 "cells": [
  {
   "cell_type": "code",
   "execution_count": 26,
   "metadata": {},
   "outputs": [],
   "source": [
    "import numpy as np\n",
    "import pandas as pd\n",
    "import matplotlib.pyplot as plt\n",
    "from scipy.integrate import solve_ivp\n",
    "import pandas as pd"
   ]
  },
  {
   "cell_type": "markdown",
   "metadata": {},
   "source": [
    "### Physics Behind Fragments"
   ]
  },
  {
   "cell_type": "markdown",
   "metadata": {},
   "source": [
    "This Notebook will be used to give a good estimation to fragment velocities for different sized fragments. This notebook will also be used to get a \"feel\" for velocitities of fragments. This analysis will be very low level and be realtively simple."
   ]
  },
  {
   "cell_type": "markdown",
   "metadata": {},
   "source": [
    "According to Newton Laws of motion, An object will remain at rest unless acted on by a force. This will be the basis of this analysis."
   ]
  },
  {
   "cell_type": "markdown",
   "metadata": {},
   "source": [
    "$F_{net}=MA$"
   ]
  },
  {
   "cell_type": "markdown",
   "metadata": {},
   "source": [
    "We can create a free body diagram to understand all the forces the fragment experiences once an explosion happens."
   ]
  },
  {
   "cell_type": "markdown",
   "metadata": {},
   "source": [
    "The main force would be the force propelling the fragment which comes from the chamber pressure. This force is usually made up of the blast obverpressure decay data which can give us a dynamic pressure which then propels the fragment. However for the purposes of this analysis, it is decided to just use the pressure experienced at the time of explosion."
   ]
  },
  {
   "cell_type": "markdown",
   "metadata": {},
   "source": [
    "The two secondary forces are the same for any object moving through a fluid. the first being the drag force which is the resistance of an object flowing through the medium. THe second force is the gravitational force that all objects experience."
   ]
  },
  {
   "cell_type": "markdown",
   "metadata": {},
   "source": [
    "<img src=\"fragment free body.PNG\">"
   ]
  },
  {
   "cell_type": "markdown",
   "metadata": {},
   "source": [
    "Now that we understand what forces are acting on the fragment. We can find the net force acting on the fragment.\n",
    "$F_{net} = P_{Chamber}A - \\frac{C_{D}A \\rho V^2}{2} - mg$"
   ]
  },
  {
   "cell_type": "markdown",
   "metadata": {},
   "source": [
    "We can now plug the net force equation into the newtons equation"
   ]
  },
  {
   "cell_type": "markdown",
   "metadata": {},
   "source": [
    "$ P_{Chamber}A - \\frac{C_{D}A \\rho V^2}{2} - mg = m \\frac{dV}{dt}$"
   ]
  },
  {
   "cell_type": "markdown",
   "metadata": {},
   "source": [
    "Now we can solve for $\\frac{dV}{dt}$"
   ]
  },
  {
   "cell_type": "markdown",
   "metadata": {},
   "source": [
    "$\\frac{dV}{dt} = \\frac{P_{Chamber}A}{m} - \\frac{C_{D}A\\rho V^{2}}{2m} - g$"
   ]
  },
  {
   "cell_type": "markdown",
   "metadata": {},
   "source": [
    "This is the velocity equation which will be used later."
   ]
  },
  {
   "cell_type": "markdown",
   "metadata": {},
   "source": [
    "### ODE from above"
   ]
  },
  {
   "cell_type": "code",
   "execution_count": 27,
   "metadata": {},
   "outputs": [],
   "source": [
    "def Velocity(P,A,rho,cd,m,t,v): \n",
    "    return PA - ((cd*(V**2)*A*rho)/(2*m))-g"
   ]
  },
  {
   "cell_type": "markdown",
   "metadata": {},
   "source": [
    "### Pressure, Radius,Thickness, CD, and Density"
   ]
  },
  {
   "cell_type": "code",
   "execution_count": 28,
   "metadata": {},
   "outputs": [
    {
     "name": "stdout",
     "output_type": "stream",
     "text": [
      "7\n"
     ]
    }
   ],
   "source": [
    "# Array for pressure (specfied from mike) by a psi\n",
    "Psi =np.array([200,450,1000,10000,100000,1000000,1500000])\n",
    "print(len(Psi))\n",
    "\n",
    "#array for Radius (0.0254-1.524m) by 1/100th of an meter\n",
    "interval = (1.524-0.0254)/len(Psi)\n",
    "r = np.array(np.arange(0.0254,1.524,(interval)))\n",
    "             \n",
    "#Density will be held as constant for now (SS304)\n",
    "rho = 8000 #kg/m^3\n",
    "             \n",
    "#Acceleration due to gravity\n",
    "g = 9.81 #m/s^2\n",
    "\n",
    "#thickness is from sch 10 SS304\n",
    "th = 4.19/1000 #m (mm to m)\n",
    "\n",
    "#Cd is from https://sv.20file.org/up1/916_0.pdf conclsion section\n",
    "cd = 1.21 #dimsonless"
   ]
  },
  {
   "cell_type": "markdown",
   "metadata": {},
   "source": [
    "### Finding Area, Volume, and Mass"
   ]
  },
  {
   "cell_type": "code",
   "execution_count": 29,
   "metadata": {},
   "outputs": [],
   "source": [
    "def Area(r):\n",
    "    A = np.pi * r**2\n",
    "    return A\n",
    "\n",
    "def Volume(r,th):\n",
    "    Vol=np.pi*(r**2)*th\n",
    "    return Vol\n",
    "\n",
    "def Mass(Vol,rho):\n",
    "    M = Vol * rho\n",
    "    return M\n",
    "\n",
    "#Calculate the Area for all Radii\n",
    "i=0\n",
    "A = np.zeros(len(r))\n",
    "for i in range(0,len(r)):\n",
    "    A[i]=Area(r[i])\n",
    "    i=i+1\n",
    "\n",
    "\n",
    "#Calculate the Volume for all Radii\n",
    "i=0\n",
    "Vol = np.zeros(len(r))\n",
    "for i in range(0,len(r)):\n",
    "    Vol[i] = Volume(r[i],th)\n",
    "    i=i+1\n",
    "\n",
    "#Calculate the Mass of each fragment\n",
    "i=0\n",
    "M = np.zeros(len(Vol))\n",
    "for i in range(0,len(Vol)):\n",
    "    M[i] = Mass(Vol[i],rho)\n",
    "    i=i+1"
   ]
  },
  {
   "cell_type": "markdown",
   "metadata": {},
   "source": [
    "### Changing Pressure (psi to Pa)"
   ]
  },
  {
   "cell_type": "code",
   "execution_count": 30,
   "metadata": {},
   "outputs": [],
   "source": [
    "def Psi_to_Pa(Psi):\n",
    "    P = Psi * 6894.76\n",
    "    return P\n",
    "\n",
    "i=0\n",
    "P = np.zeros(len(Psi))\n",
    "for i in range(0,len(Psi)):\n",
    "    P[i] = Psi_to_Pa(Psi[i])\n",
    "    i=i+1"
   ]
  },
  {
   "cell_type": "markdown",
   "metadata": {},
   "source": [
    "### Finding $F_{net}$"
   ]
  },
  {
   "cell_type": "markdown",
   "metadata": {},
   "source": [
    "$F_{net}$ for the first case will just be the chamber pressure. Therefore, $F_{net} = P_{Chamber}A$."
   ]
  },
  {
   "cell_type": "code",
   "execution_count": 31,
   "metadata": {},
   "outputs": [],
   "source": [
    "size_P = len(P)\n",
    "size_A = len(A)\n",
    "#print(type(size_P))\n",
    "F_net = np.zeros((size_P,size_A))\n",
    "j=0\n",
    "i=0\n",
    "for i in range(len(P)):\n",
    "    for j in range(len(A)):\n",
    "        F_net[i,j] = P[i] * (A[j]/M[j])\n",
    "        j=j+1\n",
    "    i=i+1 "
   ]
  },
  {
   "cell_type": "markdown",
   "metadata": {},
   "source": [
    "### Now lets solve for Velocity"
   ]
  },
  {
   "cell_type": "markdown",
   "metadata": {},
   "source": [
    "THis is a very simple integral to solve for. After the integral is complete, you should find that\n",
    "\n",
    "$v = \\frac{F}{M} * t + C$\n",
    "\n",
    "Now you to get rid of the C all we have to do is use the initial condition that at time 0 before the tank breaks, the velocity is obvisouly 0. Therefor....\n",
    "\n",
    "$v = \\frac{F}{M} * t $"
   ]
  },
  {
   "cell_type": "code",
   "execution_count": 32,
   "metadata": {},
   "outputs": [],
   "source": [
    "#######Change the below Value#########\n",
    "t=0.008\n",
    "#######Chane the above Value##########\n",
    "\n",
    "Vel = np.zeros((len(P),len(A)))\n",
    "j=0\n",
    "i=0\n",
    "for i in range(len(P)):\n",
    "    for j in range(len(A)):\n",
    "        Vel[i,j] = F_net[i,j]*t\n",
    "        j=j+1\n",
    "    i=i+1 "
   ]
  },
  {
   "cell_type": "code",
   "execution_count": 33,
   "metadata": {},
   "outputs": [],
   "source": [
    "Vel_ft = np.zeros((len(P),len(A)))\n",
    "j=0\n",
    "i=0\n",
    "for i in range(len(P)):\n",
    "    for j in range(len(A)):\n",
    "        Vel_ft[i,j] = Vel[i,j]*3.2808399\n",
    "        j=j+1\n",
    "    i=i+1 "
   ]
  },
  {
   "cell_type": "markdown",
   "metadata": {},
   "source": [
    "### SOLVE ODE"
   ]
  },
  {
   "cell_type": "code",
   "execution_count": 34,
   "metadata": {},
   "outputs": [],
   "source": [
    "#PA = P[10000]*A[1]\n",
    "#K = (cd*A[1]*rho)/(2*M[1])"
   ]
  },
  {
   "cell_type": "code",
   "execution_count": 35,
   "metadata": {},
   "outputs": [],
   "source": [
    "#def Velocity(t,y): \n",
    "    #return PA - K*(y**2)-g"
   ]
  },
  {
   "cell_type": "code",
   "execution_count": 36,
   "metadata": {},
   "outputs": [],
   "source": [
    "#sol = solve_ivp(Velocity,[0,1], [0], t_eval=np.linspace(0,1,100))\n",
    "#print(sol.t)\n",
    "#print(sol.y)"
   ]
  },
  {
   "cell_type": "markdown",
   "metadata": {},
   "source": [
    "### Creating Excel Sheet"
   ]
  },
  {
   "cell_type": "code",
   "execution_count": 37,
   "metadata": {},
   "outputs": [],
   "source": [
    "df = pd.DataFrame (Vel,columns=A,index=P)\n",
    "df2= pd.DataFrame(Vel_ft,columns=A,index=P)\n",
    "df.to_excel(\"Initial_Vel_Frag_Analysis.xlsx\")\n",
    "df2.to_excel(\"Initial_Velft_Frag_Analysis.xlsx\")"
   ]
  },
  {
   "cell_type": "markdown",
   "metadata": {},
   "source": [
    "### Create Graphs"
   ]
  },
  {
   "cell_type": "code",
   "execution_count": 38,
   "metadata": {},
   "outputs": [
    {
     "data": {
      "image/png": "[encoded data removed]",
      "text/plain": [
       "<Figure size 432x288 with 1 Axes>"
      ]
     },
     "metadata": {
      "needs_background": "light"
     },
     "output_type": "display_data"
    }
   ],
   "source": [
    "plt.plot(df)\n",
    "plt.ylabel(\"Velocity (m/s)\")\n",
    "plt.xlabel(\"Pressure (Pa)\")\n",
    "plt.show()"
   ]
  },
  {
   "cell_type": "code",
   "execution_count": 39,
   "metadata": {},
   "outputs": [],
   "source": [
    "### Change Velocity from m/s to ft/s"
   ]
  },
  {
   "cell_type": "code",
   "execution_count": 40,
   "metadata": {},
   "outputs": [
    {
     "data": {
      "image/png": "[encoded data removed]",
      "text/plain": [
       "<Figure size 432x288 with 1 Axes>"
      ]
     },
     "metadata": {
      "needs_background": "light"
     },
     "output_type": "display_data"
    }
   ],
   "source": [
    "plt.plot(df2)\n",
    "plt.ylabel(\"Velocity (ft/s)\")\n",
    "plt.xlabel(\"Pressure (Pa)\")\n",
    "plt.show()"
   ]
  },
  {
   "cell_type": "markdown",
   "metadata": {},
   "source": [
    "### Lets solve for time of acceleration of fragments"
   ]
  },
  {
   "cell_type": "code",
   "execution_count": 50,
   "metadata": {},
   "outputs": [
    {
     "name": "stdout",
     "output_type": "stream",
     "text": [
      "[1.53608633e-01 6.82705034e-02 3.07217265e-02 3.07217265e-03\n",
      " 3.07217265e-04 3.07217265e-05 2.04811510e-05]\n",
      "[1.378952e+06 3.102642e+06 6.894760e+06 6.894760e+07 6.894760e+08\n",
      " 6.894760e+09 1.034214e+10]\n"
     ]
    }
   ],
   "source": [
    "########CONSTANTS##############\n",
    "A = 76.83 #in^2 average from test 9 fragments\n",
    "thickness = 0.38 #in from average test 9 fragment\n",
    "dens = 8000 #kg/m^3\n",
    "V = 9000 #fastest and earliest fragment from test 5 ft/s\n",
    "##################################\n",
    "\n",
    "##########FUNCTIONS################\n",
    "def ins_ms(A_1):\n",
    "    A = A_1*0.00064516\n",
    "    return A\n",
    "def ftps_mps(V_1):\n",
    "    V = V_1*0.3048\n",
    "    return V\n",
    "def in_m(thickness_1):\n",
    "    thickness = thickness_1*0.0254\n",
    "    return thickness\n",
    "\n",
    "####################################\n",
    "\n",
    "############SI UNITS BELOW###############\n",
    "A = ins_ms(A) #m^2\n",
    "V = ftps_mps(V) #m/s\n",
    "thickness = in_m(thickness) #m\n",
    "\n",
    "#############Calculations#################\n",
    "M = (A*thickness)*rho\n",
    "t = np.zeros(len(P))\n",
    "for i in range(len(P)):\n",
    "    t[i] = (V*M)/(P[i]*A)\n",
    "    i = i+1\n",
    "print(t)\n",
    "print(P)"
   ]
  },
  {
   "cell_type": "markdown",
   "metadata": {},
   "source": []
  },
  {
   "cell_type": "code",
   "execution_count": 57,
   "metadata": {},
   "outputs": [
    {
     "name": "stdout",
     "output_type": "stream",
     "text": [
      "Pressure (Pa)  Time of Contact (s)\n",
      "                     0\n",
      "1.378952e+06  0.153609\n",
      "3.102642e+06  0.068271\n",
      "6.894760e+06  0.030722\n",
      "6.894760e+07  0.003072\n",
      "6.894760e+08  0.000307\n",
      "6.894760e+09  0.000031\n",
      "1.034214e+10  0.000020\n"
     ]
    },
    {
     "data": {
      "image/png": "[encoded data removed]",
      "text/plain": [
       "<Figure size 432x288 with 1 Axes>"
      ]
     },
     "metadata": {
      "needs_background": "light"
     },
     "output_type": "display_data"
    }
   ],
   "source": [
    "print('Pressure (Pa) ', 'Time of Contact (s)')\n",
    "df3= pd.DataFrame(t, index = P)\n",
    "print(df3)\n",
    "df3.to_excel(\"time_of_Accel_Frag.xlsx\")\n",
    "plt.plot(df3)\n",
    "plt.ylabel(\"Time of contact (s)\")\n",
    "plt.xlabel(\"Pressure (Pa)\")\n",
    "plt.show()"
   ]
  },
  {
   "cell_type": "code",
   "execution_count": null,
   "metadata": {},
   "outputs": [],
   "source": []
  }
 ],
 "metadata": {
  "kernelspec": {
   "display_name": "Python 3",
   "language": "python",
   "name": "python3"
  },
  "language_info": {
   "codemirror_mode": {
    "name": "ipython",
    "version": 3
   },
   "file_extension": ".py",
   "mimetype": "text/x-python",
   "name": "python",
   "nbconvert_exporter": "python",
   "pygments_lexer": "ipython3",
   "version": "3.7.6"
  }
 },
 "nbformat": 4,
 "nbformat_minor": 4
}
